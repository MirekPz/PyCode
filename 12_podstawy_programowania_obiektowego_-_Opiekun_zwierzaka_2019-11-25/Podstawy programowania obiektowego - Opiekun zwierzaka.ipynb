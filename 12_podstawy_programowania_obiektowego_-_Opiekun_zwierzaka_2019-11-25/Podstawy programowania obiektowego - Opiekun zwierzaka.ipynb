{
 "cells": [
  {
   "cell_type": "code",
   "execution_count": 51,
   "metadata": {},
   "outputs": [],
   "source": [
    "class Critter(object):\n",
    "    \n",
    "    def __init__(self):\n",
    "        print(\"Konstruktor - metoda specjalna wywoływana automatycznie zaraz po utworzeniu nowego obiektu w danej klasie\")\n",
    "    \n",
    "    def talk(self):\n",
    "        print(\"To jest metoda 'talk' - dla egzemplarz klasy Critter\")\n"
   ]
  },
  {
   "cell_type": "code",
   "execution_count": 52,
   "metadata": {},
   "outputs": [
    {
     "name": "stdout",
     "output_type": "stream",
     "text": [
      "Konstruktor - metoda specjalna wywoływana automatycznie zaraz po utworzeniu nowego obiektu w danej klasie\n"
     ]
    }
   ],
   "source": [
    "nowy_obiekt = Critter()"
   ]
  },
  {
   "cell_type": "code",
   "execution_count": 53,
   "metadata": {
    "scrolled": true
   },
   "outputs": [
    {
     "name": "stdout",
     "output_type": "stream",
     "text": [
      "Konstruktor - metoda specjalna wywoływana automatycznie zaraz po utworzeniu nowego obiektu w danej klasie\n"
     ]
    }
   ],
   "source": [
    "obiekt_klasy_Critter = Critter()"
   ]
  },
  {
   "cell_type": "code",
   "execution_count": 54,
   "metadata": {},
   "outputs": [
    {
     "name": "stdout",
     "output_type": "stream",
     "text": [
      "<__main__.Critter object at 0x7f9cd72dbb38>\n"
     ]
    }
   ],
   "source": [
    "print(obiekt_klasy_Critter)"
   ]
  },
  {
   "cell_type": "code",
   "execution_count": 55,
   "metadata": {},
   "outputs": [
    {
     "name": "stdout",
     "output_type": "stream",
     "text": [
      "To jest metoda 'talk' - dla egzemplarz klasy Critter\n"
     ]
    }
   ],
   "source": [
    "obiekt_klasy_Critter.talk()"
   ]
  },
  {
   "cell_type": "code",
   "execution_count": 56,
   "metadata": {},
   "outputs": [
    {
     "name": "stdout",
     "output_type": "stream",
     "text": [
      "Konstruktor - metoda specjalna wywoływana automatycznie zaraz po utworzeniu nowego obiektu w danej klasie\n"
     ]
    }
   ],
   "source": [
    "crit = Critter()"
   ]
  },
  {
   "cell_type": "code",
   "execution_count": 57,
   "metadata": {},
   "outputs": [
    {
     "name": "stdout",
     "output_type": "stream",
     "text": [
      "To jest metoda 'talk' - dla egzemplarz klasy Critter\n"
     ]
    }
   ],
   "source": [
    "crit.talk()"
   ]
  },
  {
   "cell_type": "code",
   "execution_count": null,
   "metadata": {},
   "outputs": [],
   "source": []
  }
 ],
 "metadata": {
  "kernelspec": {
   "display_name": "Python 3",
   "language": "python",
   "name": "python3"
  },
  "language_info": {
   "codemirror_mode": {
    "name": "ipython",
    "version": 3
   },
   "file_extension": ".py",
   "mimetype": "text/x-python",
   "name": "python",
   "nbconvert_exporter": "python",
   "pygments_lexer": "ipython3",
   "version": "3.7.3"
  }
 },
 "nbformat": 4,
 "nbformat_minor": 2
}
